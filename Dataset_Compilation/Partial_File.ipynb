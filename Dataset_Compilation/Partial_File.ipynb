{
 "cells": [
  {
   "cell_type": "code",
   "execution_count": 2,
   "id": "a805172c-1f78-470b-a51b-fa0fe1708f29",
   "metadata": {},
   "outputs": [
    {
     "name": "stdout",
     "output_type": "stream",
     "text": [
      "✔ Extracted 9887 completed entries and updated Partial_Training.csv.\n"
     ]
    }
   ],
   "source": [
    "import pandas as pd\n",
    "\n",
    "# ✅ Define file paths\n",
    "training_file = \"/Users/carmenshero/Desktop/Datasets/Training_Set.csv\"\n",
    "partial_training_file = \"/Users/carmenshero/Desktop/Datasets/Partial_Training.csv\"\n",
    "\n",
    "# ✅ Load full dataset\n",
    "df_training = pd.read_csv(training_file, dtype=str, low_memory=False)\n",
    "\n",
    "# ✅ Identify completed rows (A-W must have values)\n",
    "completed_rows = df_training.iloc[:, :23].notnull().all(axis=1)  # A-W = First 23 columns (0-22 index)\n",
    "\n",
    "# ✅ Extract only completed rows\n",
    "df_completed = df_training[completed_rows].copy()\n",
    "\n",
    "# ✅ Load Partial_Training.csv to ensure headers are correct\n",
    "df_partial = pd.read_csv(partial_training_file, dtype=str, low_memory=False)\n",
    "\n",
    "# ✅ Save completed rows into Partial_Training.csv (overwrite with new complete entries)\n",
    "df_completed.to_csv(partial_training_file, index=False)\n",
    "\n",
    "print(f\"✔ Extracted {len(df_completed)} completed entries and updated Partial_Training.csv.\")\n"
   ]
  },
  {
   "cell_type": "code",
   "execution_count": 3,
   "id": "697f921a-1a79-47be-9f88-660e6126a681",
   "metadata": {},
   "outputs": [
    {
     "name": "stdout",
     "output_type": "stream",
     "text": [
      "✔ Removed rows where 'ec_numbers' is 'MISSING'. New count: 5453 rows.\n"
     ]
    }
   ],
   "source": [
    "# ✅ Load Partial_Training.csv\n",
    "df_partial = pd.read_csv(partial_training_file, dtype=str, low_memory=False)\n",
    "\n",
    "# ✅ Remove rows where 'ec_numbers' (Column O, index 14) contains 'MISSING'\n",
    "df_partial_cleaned = df_partial[df_partial[\"ec_numbers\"] != \"MISSING\"].copy()\n",
    "\n",
    "# ✅ Save cleaned dataset back to Partial_Training.csv\n",
    "df_partial_cleaned.to_csv(partial_training_file, index=False)\n",
    "\n",
    "print(f\"✔ Removed rows where 'ec_numbers' is 'MISSING'. New count: {len(df_partial_cleaned)} rows.\")\n"
   ]
  },
  {
   "cell_type": "code",
   "execution_count": null,
   "id": "99349561-6713-4ba8-b2a9-45ceef31501e",
   "metadata": {},
   "outputs": [],
   "source": []
  }
 ],
 "metadata": {
  "kernelspec": {
   "display_name": "Python 3 (ipykernel)",
   "language": "python",
   "name": "python3"
  },
  "language_info": {
   "codemirror_mode": {
    "name": "ipython",
    "version": 3
   },
   "file_extension": ".py",
   "mimetype": "text/x-python",
   "name": "python",
   "nbconvert_exporter": "python",
   "pygments_lexer": "ipython3",
   "version": "3.12.1"
  }
 },
 "nbformat": 4,
 "nbformat_minor": 5
}
